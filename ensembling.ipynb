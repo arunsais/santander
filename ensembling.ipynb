{
 "cells": [
  {
   "cell_type": "code",
   "execution_count": 1,
   "metadata": {
    "collapsed": true
   },
   "outputs": [],
   "source": [
    "import pandas as pd\n",
    "import copy\n",
    "import numpy as np"
   ]
  },
  {
   "cell_type": "code",
   "execution_count": 2,
   "metadata": {
    "collapsed": true
   },
   "outputs": [],
   "source": [
    "def get_weighted_avg(X, weights):\n",
    "    X = np.dot(np.reshape(weights, (1, X.shape[0])), X)\n",
    "    X = np.average(X, axis = 0)\n",
    "    return X\n",
    "\n",
    "def ensemb(pred_file_list, weights, out_file):\n",
    "    weights = weights * 1.0 / np.sum(weights)\n",
    "    A = [pd.read_csv(pred_file) for pred_file in pred_file_list]\n",
    "    X = [np.asarray(a.TARGET) for a in A]\n",
    "    X = np.asmatrix(X)\n",
    "    X = get_weighted_avg(X, weights)\n",
    "    X = np.squeeze(np.asarray(X))\n",
    "    ans = copy.deepcopy(A[0])\n",
    "    ans.TARGET = X\n",
    "    ans.to_csv(out_file, index=False)\n",
    "    \n",
    "def get_weights(private_scores):\n",
    "    weights = (np.log(private_scores / (1-private_scores)))**4\n",
    "    weights = weights * 1.0 / np.sum(weights)\n",
    "    return weights"
   ]
  },
  {
   "cell_type": "code",
   "execution_count": 4,
   "metadata": {
    "collapsed": false
   },
   "outputs": [],
   "source": [
    "pred_file_list = ['./xgb_feature_selection_0.840577027088.csv', './xgb_0.841531345085.csv','./100xgb_0.837.csv' ]\n",
    "private_scores = np.asarray([0.840577027088,0.841531345085, 0.837 ])\n",
    "\n",
    "out_file = './ensemb_xgb_feature_selection_0.840577027088__xgb_0.841531345085__100xgb_0.837.csv'\n",
    "weights = get_weights(private_scores)\n",
    "ensemb(pred_file_list, weights, out_file)"
   ]
  },
  {
   "cell_type": "code",
   "execution_count": 17,
   "metadata": {
    "collapsed": false
   },
   "outputs": [
    {
     "data": {
      "text/plain": [
       "array([ 0.18762594,  0.45096741,  0.09746786,  0.16339865,  0.01541549,\n",
       "        0.08512466])"
      ]
     },
     "execution_count": 17,
     "metadata": {},
     "output_type": "execute_result"
    }
   ],
   "source": [
    "weights"
   ]
  },
  {
   "cell_type": "code",
   "execution_count": null,
   "metadata": {
    "collapsed": true
   },
   "outputs": [],
   "source": []
  }
 ],
 "metadata": {
  "kernelspec": {
   "display_name": "Python 2",
   "language": "python",
   "name": "python2"
  },
  "language_info": {
   "codemirror_mode": {
    "name": "ipython",
    "version": 2
   },
   "file_extension": ".py",
   "mimetype": "text/x-python",
   "name": "python",
   "nbconvert_exporter": "python",
   "pygments_lexer": "ipython2",
   "version": "2.7.10"
  }
 },
 "nbformat": 4,
 "nbformat_minor": 0
}
