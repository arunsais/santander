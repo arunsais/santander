{
 "cells": [
  {
   "cell_type": "code",
   "execution_count": 7,
   "metadata": {
    "collapsed": false
   },
   "outputs": [
    {
     "ename": "SyntaxError",
     "evalue": "invalid syntax (<ipython-input-7-bae36c976952>, line 16)",
     "output_type": "error",
     "traceback": [
      "\u001b[0;36m  File \u001b[0;32m\"<ipython-input-7-bae36c976952>\"\u001b[0;36m, line \u001b[0;32m16\u001b[0m\n\u001b[0;31m    df_test = pd.read_csv('test_art.csv')print df_train.shape\u001b[0m\n\u001b[0m                                             ^\u001b[0m\n\u001b[0;31mSyntaxError\u001b[0m\u001b[0;31m:\u001b[0m invalid syntax\n"
     ]
    }
   ],
   "source": [
    "import numpy as np\n",
    "import pandas as pd\n",
    "import sklearn as sk\n",
    "import xgboost as xgb\n",
    "\n",
    "from scipy import sparse\n",
    "from itertools import combinations\n",
    "from scipy.sparse import coo_matrix, hstack\n",
    "from sklearn import preprocessing\n",
    "from sklearn.preprocessing import OneHotEncoder\n",
    "from sklearn.grid_search import GridSearchCV\n",
    "\n",
    "if __name__ == \"__main__\": \n",
    "\t# load data\n",
    "\tdf_train = pd.read_csv('train_art.csv')\n",
    "\tdf_test = pd.read_csv('test_art.csv')\n",
    "\t# remove columns with 0 variance\n",
    "\tremove = []\n",
    "\tcols = df_train.columns\n",
    "\tfor i in range(len(cols)-1):\n",
    "\t\tif df_train[cols[i]].std() == 0:\n",
    "\t\t\tremove.append(cols[i])\n",
    "\n",
    "\t# remove duplicated columns\n",
    "\tfor i in range(len(cols)-1):\n",
    "\t\tv = df_train[cols[i]].values\n",
    "\t\tfor j in range(i+1,len(cols)):\n",
    "\t\t\tif np.array_equal(v,df_train[cols[j]].values):\n",
    "\t\t\t\tremove.append(cols[j])\t\n",
    "\n",
    "\tdf_train.drop(remove, axis=1, inplace=True)\n",
    "\tdf_test.drop(remove, axis=1, inplace=True)\n",
    "\n",
    "\ttokeep = ['num_var39_0',  # 0.00031104199066874026\n",
    "              'ind_var13',  # 0.00031104199066874026\n",
    "              'num_op_var41_comer_ult3',  # 0.00031104199066874026\n",
    "              'num_var43_recib_ult1',  # 0.00031104199066874026\n",
    "              'imp_op_var41_comer_ult3',  # 0.00031104199066874026\n",
    "              'num_var8',  # 0.00031104199066874026\n",
    "              'num_var42',  # 0.00031104199066874026\n",
    "              'num_var30',  # 0.00031104199066874026\n",
    "              'saldo_var8',  # 0.00031104199066874026\n",
    "              'num_op_var39_efect_ult3',  # 0.00031104199066874026\n",
    "              'num_op_var39_comer_ult3',  # 0.00031104199066874026\n",
    "              'num_var41_0',  # 0.0006220839813374805\n",
    "              'num_op_var39_ult3',  # 0.0006220839813374805\n",
    "              'saldo_var13',  # 0.0009331259720062209\n",
    "              'num_var30_0',  # 0.0009331259720062209\n",
    "              'ind_var37_cte',  # 0.0009331259720062209\n",
    "              'ind_var39_0',  # 0.001244167962674961\n",
    "              'num_var5',  # 0.0015552099533437014\n",
    "              'ind_var10_ult1',  # 0.0015552099533437014\n",
    "              'num_op_var39_hace2',  # 0.0018662519440124418\n",
    "              'num_var22_hace2',  # 0.0018662519440124418\n",
    "              'num_var35',  # 0.0018662519440124418\n",
    "              'ind_var30',  # 0.0018662519440124418\n",
    "              'num_med_var22_ult3',  # 0.002177293934681182\n",
    "              'imp_op_var41_efect_ult1',  # 0.002488335925349922\n",
    "              'var36',  # 0.0027993779160186624\n",
    "              'num_med_var45_ult3',  # 0.003110419906687403\n",
    "              'imp_op_var39_ult1',  # 0.0037325038880248835\n",
    "              'imp_op_var39_comer_ult3',  # 0.0037325038880248835\n",
    "              'imp_trans_var37_ult1',  # 0.004043545878693624\n",
    "              'num_var5_0',  # 0.004043545878693624\n",
    "              'num_var45_ult1',  # 0.004665629860031105\n",
    "              'ind_var41_0',  # 0.0052877138413685845\n",
    "              'imp_op_var41_ult1',  # 0.0052877138413685845\n",
    "              'num_var8_0',  # 0.005598755832037325\n",
    "              'imp_op_var41_efect_ult3',  # 0.007153965785381027\n",
    "              'num_op_var41_ult3',  # 0.007153965785381027\n",
    "              'num_var22_hace3',  # 0.008087091757387248\n",
    "              'num_var4',  # 0.008087091757387248\n",
    "              'imp_op_var39_comer_ult1',  # 0.008398133748055987\n",
    "              'num_var45_ult3',  # 0.008709175738724729\n",
    "              'ind_var5',  # 0.009953343701399688\n",
    "              'imp_op_var39_efect_ult3',  # 0.009953343701399688\n",
    "              'num_meses_var5_ult3',  # 0.009953343701399688\n",
    "              'saldo_var42',  # 0.01181959564541213\n",
    "              'imp_op_var39_efect_ult1',  # 0.013374805598755831\n",
    "              'num_var45_hace2',  # 0.014618973561430793\n",
    "              'num_var22_ult1',  # 0.017107309486780714\n",
    "              'saldo_medio_var5_ult1',  # 0.017418351477449457\n",
    "              'saldo_var5',  # 0.0208398133748056\n",
    "              'ind_var8_0',  # 0.021150855365474338\n",
    "              'ind_var5_0',  # 0.02177293934681182\n",
    "              'num_meses_var39_vig_ult3',  # 0.024572317262830483\n",
    "              'saldo_medio_var5_ult3',  # 0.024883359253499222\n",
    "              'num_var45_hace3',  # 0.026749611197511663\n",
    "              'num_var22_ult3',  # 0.03452566096423017\n",
    "              'saldo_medio_var5_hace3',  # 0.04074650077760498\n",
    "              'saldo_medio_var5_hace2',  # 0.04292379471228616\n",
    "              'n0',  # 0.04696734059097978\n",
    "              'saldo_var30',  # 0.09611197511664074\n",
    "              'var38',  # 0.1390357698289269\n",
    "              'var15', 'art_var3', 'art_var36', 'art_var38mc', 'art_logvar38','pca0', 'pca1', 'pca2', 'pca3', 'pca4', 'pca5', 'pca6', 'pca7', 'pca8', 'pca9', 'pca_all0', 'pca_all1', 'pca_all2', 'pca_all3', 'pca_all4', 'pca_all5', 'pca_all6', 'pca_all7', 'pca_all8', 'pca_all9'] \n",
    "\n",
    "\t#df_train.replace(0, np.nan, True).to_sparse()\n",
    "\t#df_test.replace(0, np.nan, True).to_sparse()\n",
    "\t#0 if np.isnan(i) else 1\n",
    "\ty = df_train.ix[:,-1]; X = pd.DataFrame.as_matrix(df_train[tokeep])\n",
    "\ty_test = df_test.ix[:,0]; X_test = pd.DataFrame.as_matrix(df_test[tokeep])\n",
    "    "
   ]
  },
  {
   "cell_type": "code",
   "execution_count": null,
   "metadata": {
    "collapsed": true
   },
   "outputs": [],
   "source": [
    "\t# get knn features\n",
    "# \tX_knn = np.load('train_knn.npz')['arr_0']; X_test_knn = np.load('test_knn.npz')['arr_0']\n",
    "# \tX_knn = X_knn[:,[3]]; X_test_knn = X_test_knn[:,[3]];\n",
    "\t#X_lr = np.load('lr_train.npz')['arr_0']; X_test_lr = np.load('lr_test.npz')['arr_0']\n",
    "\t#X_lr = X_lr.reshape(-1,1); X_test_lr = X_test_lr.reshape(-1,1); \n",
    "\t\n",
    "\t#X = np.hstack([X_lr,  X]); \n",
    "\t#X_test = np.hstack([X_test_lr, X_test])\n",
    "\t# original 350,5,0.03, 0.85, 0.8\n",
    "\t# mean: 0.84050, std: 0.00900, params: {'n_estimators': 350, 'subsample': 0.75, 'learning_rate': 0.03, 'colsample_bytree': 0.7, 'max_depth': 9}\n",
    "\t# cross validation\n",
    "# \tgrid = { 'max_depth':[5], 'n_estimators':[350], 'learning_rate':[0.03], 'subsample':[0.8], 'colsample_bytree':[0.6], 'min_child_weight':[1]}\n",
    "# \tgrid_search = GridSearchCV(estimator = xgb.XGBClassifier(missing=np.nan, nthread = 4, objective= 'binary:logistic', seed=9), param_grid = grid, scoring='roc_auc', cv=5, verbose='100')\n",
    "# \tgrid_search.fit(X, y)\n",
    "# \tprint grid_search.grid_scores_, grid_search.best_score_, grid_search.best_params_\t\t\n",
    "\n",
    "\t# train with best parameters\n",
    "\txgb_clsf = xgb.XGBClassifier(missing=np.nan, nthread = 4, n_estimators=350, max_depth=5, objective= 'binary:logistic',  learning_rate = 0.03, colsample_bytree=0.7, subsample = 0.8, min_child_weight = 1, seed = 9)\n",
    "\txgb_clsf.fit(X, y)\n",
    "\n",
    "\t# testing\n",
    "\ty_test_pred = xgb_clsf.predict_proba(X_test)\n",
    "\tans = pd.DataFrame({'ID': y_test, 'TARGET' : y_test_pred[:,1]})\n",
    "\tans.to_csv('xgb_feature_selection_'+'.csv', index=False, columns=['ID', 'TARGET'])"
   ]
  },
  {
   "cell_type": "code",
   "execution_count": 3,
   "metadata": {
    "collapsed": false
   },
   "outputs": [
    {
     "name": "stdout",
     "output_type": "stream",
     "text": [
      "(76020, 333)\n"
     ]
    }
   ],
   "source": [
    "print df_train.shape"
   ]
  }
 ],
 "metadata": {
  "kernelspec": {
   "display_name": "Python 2",
   "language": "python",
   "name": "python2"
  },
  "language_info": {
   "codemirror_mode": {
    "name": "ipython",
    "version": 2
   },
   "file_extension": ".py",
   "mimetype": "text/x-python",
   "name": "python",
   "nbconvert_exporter": "python",
   "pygments_lexer": "ipython2",
   "version": "2.7.10"
  }
 },
 "nbformat": 4,
 "nbformat_minor": 0
}
